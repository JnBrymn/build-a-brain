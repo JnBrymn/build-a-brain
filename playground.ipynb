{
 "cells": [
  {
   "cell_type": "code",
   "execution_count": 376,
   "metadata": {},
   "outputs": [],
   "source": [
    "import numpy as np\n",
    "import matplotlib\n",
    "import matplotlib.pyplot as plt\n",
    "plt.rcParams['figure.figsize'] = [50,50]"
   ]
  },
  {
   "cell_type": "code",
   "execution_count": 429,
   "metadata": {},
   "outputs": [],
   "source": [
    "class Brain:\n",
    "    \n",
    "    def __init__(self, num_neurons, synnaptic_density, initial_active_neuron_density, neuronal_max_threshold):\n",
    "        self.num_neurons = num_neurons\n",
    "        self.synnaptic_density = synnaptic_density\n",
    "        self.initial_active_neuron_density = initial_active_neuron_density\n",
    "        self.neuronal_max_threshold = neuronal_max_threshold\n",
    "\n",
    "        # neuronal states\n",
    "        self.neuronal_states = 1*(np.random.rand(num_neurons,1) < initial_active_neuron_density)\n",
    "        self.neuronal_thresholds = np.ones([num_neurons,1])*neuronal_max_threshold\n",
    "        \n",
    "        # synaptic strengths\n",
    "        self.synapses = 1*(np.random.rand(num_neurons,num_neurons) < synnaptic_density)\n",
    "        self.synapses_a = 0.1*self.synapses.copy()\n",
    "        self.synapses_b = self.synapses_a.copy()\n",
    "    \n",
    "    def get_synaptic_activationa(self):\n",
    "        \"\"\"activation of the synnapses is True if the random number exceeds the synaptic_threshold\"\"\"\n",
    "        synaptic_threshold = self.synapses_a/(self.synapses_a+self.synapses_b)\n",
    "        synaptic_activations = (self.synapses.copy()*np.random.rand(self.num_neurons, self.num_neurons)) > (synaptic_threshold)\n",
    "        return synaptic_activations\n",
    "        \n",
    "    def update_neuronal_states(self):\n",
    "        \"\"\"the next neuronal state depends upon what neurons are active currently, what synapses are active, and \n",
    "        whether the resulting activation is above the threshold for activation.\"\"\"\n",
    "        synaptic_activations = self.get_synaptic_activationa()\n",
    "        next_neuronal_states = synaptic_activations @ self.neuronal_states\n",
    "        next_neuronal_states = 1*(next_neuronal_states>self.neuronal_thresholds)\n",
    "        self.neuronal_states = next_neuronal_states\n",
    "        \n",
    "        # decrease the neuronal_threshold for all neurons but reset neuronal_thresholds for neurons that activated\n",
    "        self.neuronal_thresholds = self.neuronal_thresholds - 1\n",
    "        self.neuronal_thresholds[self.neuronal_states == 1] = self.neuronal_max_threshold\n",
    "\n",
    "    def simulate_brain(self, num_updates=150):\n",
    "        neuron_history = self.neuronal_states\n",
    "\n",
    "        for i in range(num_updates):\n",
    "            self.update_neuronal_states()\n",
    "            neuron_history = np.concatenate([neuron_history,self.neuronal_states], axis=1)\n",
    "\n",
    "        plt.imshow(neuron_history)"
   ]
  },
  {
   "cell_type": "code",
   "execution_count": 464,
   "metadata": {},
   "outputs": [
    {
     "name": "stderr",
     "output_type": "stream",
     "text": [
      "<ipython-input-429-0c4e104fd3f4>:20: RuntimeWarning: invalid value encountered in true_divide\n",
      "  synaptic_threshold = self.synapses_a/(self.synapses_a+self.synapses_b)\n"
     ]
    },
    {
     "data": {
      "image/png": "[encoded data removed]",
      "text/plain": [
       "<Figure size 3600x3600 with 1 Axes>"
      ]
     },
     "metadata": {
      "needs_background": "light"
     },
     "output_type": "display_data"
    }
   ],
   "source": [
    "brain = Brain(\n",
    "    num_neurons=50, \n",
    "    synnaptic_density=0.40,\n",
    "    initial_active_neuron_density=.3,\n",
    "    neuronal_max_threshold=6,\n",
    ")\n",
    "brain.simulate_brain(300)"
   ]
  },
  {
   "cell_type": "code",
   "execution_count": null,
   "metadata": {},
   "outputs": [],
   "source": [
    "class Brain:\n",
    "    \n",
    "    def __init__(self, num_neurons, synnaptic_density, initial_active_neuron_density, neuronal_max_threshold):\n",
    "        self.num_neurons = num_neurons\n",
    "        self.synnaptic_density = synnaptic_density\n",
    "        self.initial_active_neuron_density = initial_active_neuron_density\n",
    "        self.neuronal_max_threshold = neuronal_max_threshold\n",
    "\n",
    "        # neuronal states\n",
    "        self.neuronal_states = 1*(np.random.rand(num_neurons,1) < initial_active_neuron_density)\n",
    "        self.neuronal_thresholds = np.ones([num_neurons,1])*neuronal_max_threshold\n",
    "        \n",
    "        # synaptic strengths\n",
    "        self.synapses = 1*(np.random.rand(num_neurons,num_neurons) < synnaptic_density)\n",
    "        self.synapses_a = 0.1*self.synapses.copy()\n",
    "        self.synapses_b = self.synapses_a.copy()\n",
    "    \n",
    "    def get_synaptic_activationa(self):\n",
    "        \"\"\"activation of the synnapses is True if the random number exceeds the synaptic_threshold\"\"\"\n",
    "        synaptic_threshold = self.synapses_a/(self.synapses_a+self.synapses_b)\n",
    "        synaptic_activations = (self.synapses.copy()*np.random.rand(self.num_neurons, self.num_neurons)) > (synaptic_threshold)\n",
    "        return synaptic_activations\n",
    "        \n",
    "    def update_neuronal_states(self):\n",
    "        \"\"\"the next neuronal state depends upon what neurons are active currently, what synapses are active, and \n",
    "        whether the resulting activation is above the threshold for activation.\"\"\"\n",
    "        synaptic_activations = self.get_synaptic_activationa()\n",
    "        next_neuronal_states = synaptic_activations @ self.neuronal_states\n",
    "        next_neuronal_states = 1*(next_neuronal_states>self.neuronal_thresholds)\n",
    "        self.neuronal_states = next_neuronal_states\n",
    "        \n",
    "        # decrease the neuronal_threshold for all neurons but reset neuronal_thresholds for neurons that activated\n",
    "        self.neuronal_thresholds = self.neuronal_thresholds - 1\n",
    "        self.neuronal_thresholds[self.neuronal_states == 1] = self.neuronal_max_threshold\n",
    "\n",
    "    def simulate_brain(self, num_updates=150):\n",
    "        neuron_history = self.neuronal_states\n",
    "\n",
    "        for i in range(num_updates):\n",
    "            self.update_neuronal_states()\n",
    "            neuron_history = np.concatenate([neuron_history,self.neuronal_states], axis=1)\n",
    "\n",
    "        plt.imshow(neuron_history)"
   ]
  },
  {
   "cell_type": "code",
   "execution_count": 474,
   "metadata": {},
   "outputs": [],
   "source": [
    "self = Brain(\n",
    "    num_neurons=50, \n",
    "    synnaptic_density=0.40,\n",
    "    initial_active_neuron_density=.3,\n",
    "    neuronal_max_threshold=4,\n",
    ")\n",
    "# self.simulate_brain(300)\n",
    "\n",
    "neuronal_states = self.neuronal_states"
   ]
  },
  {
   "cell_type": "code",
   "execution_count": 475,
   "metadata": {},
   "outputs": [
    {
     "name": "stderr",
     "output_type": "stream",
     "text": [
      "<ipython-input-429-0c4e104fd3f4>:20: RuntimeWarning: invalid value encountered in true_divide\n",
      "  synaptic_threshold = self.synapses_a/(self.synapses_a+self.synapses_b)\n"
     ]
    }
   ],
   "source": [
    "self.update_neuronal_states()\n",
    "next_neuronal_states = self.neuronal_states"
   ]
  },
  {
   "cell_type": "code",
   "execution_count": 476,
   "metadata": {},
   "outputs": [
    {
     "data": {
      "text/plain": [
       "array([[0],\n",
       "       [1],\n",
       "       [0],\n",
       "       [1],\n",
       "       [1],\n",
       "       [0],\n",
       "       [1],\n",
       "       [0],\n",
       "       [0],\n",
       "       [0],\n",
       "       [0],\n",
       "       [1],\n",
       "       [0],\n",
       "       [0],\n",
       "       [0],\n",
       "       [0],\n",
       "       [0],\n",
       "       [1],\n",
       "       [0],\n",
       "       [0],\n",
       "       [0],\n",
       "       [1],\n",
       "       [0],\n",
       "       [0],\n",
       "       [1],\n",
       "       [0],\n",
       "       [0],\n",
       "       [1],\n",
       "       [0],\n",
       "       [0],\n",
       "       [1],\n",
       "       [0],\n",
       "       [1],\n",
       "       [1],\n",
       "       [0],\n",
       "       [1],\n",
       "       [0],\n",
       "       [0],\n",
       "       [1],\n",
       "       [0],\n",
       "       [1],\n",
       "       [0],\n",
       "       [1],\n",
       "       [1],\n",
       "       [1],\n",
       "       [0],\n",
       "       [0],\n",
       "       [0],\n",
       "       [0],\n",
       "       [0]])"
      ]
     },
     "execution_count": 476,
     "metadata": {},
     "output_type": "execute_result"
    }
   ],
   "source": [
    "next_neuronal_states"
   ]
  },
  {
   "cell_type": "markdown",
   "metadata": {},
   "source": [
    "# next\n",
    "\n",
    "* get a better plot\n",
    "* make the activation threshold of the neurons drain as time goes on unless they activate, then they get the max threshold\n",
    "\n",
    "# ideas\n",
    "1. represent inhibitory synapses with negative S_a"
   ]
  },
  {
   "cell_type": "code",
   "execution_count": null,
   "metadata": {},
   "outputs": [],
   "source": []
  }
 ],
 "metadata": {
  "kernelspec": {
   "display_name": "GitHub DataSci",
   "language": "python",
   "name": "githubdatasci"
  },
  "language_info": {
   "codemirror_mode": {
    "name": "ipython",
    "version": 3
   },
   "file_extension": ".py",
   "mimetype": "text/x-python",
   "name": "python",
   "nbconvert_exporter": "python",
   "pygments_lexer": "ipython3",
   "version": "3.8.2"
  }
 },
 "nbformat": 4,
 "nbformat_minor": 4
}
